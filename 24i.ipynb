{
 "cells": [
  {
   "cell_type": "markdown",
   "metadata": {},
   "source": [
    "# The 24 Game"
   ]
  },
  {
   "cell_type": "markdown",
   "metadata": {},
   "source": [
    "The Python program below finds solutions to the 24 game: use four numbers and any of the four basic arithmetic operations (multiplication, division, addition and subtraction) to produce the number 24 (or any number you choose).\n",
    "\n",
    "Execute the program, choose four numbers (separated by commas) and the target number (24 by default)."
   ]
  },
  {
   "cell_type": "code",
   "execution_count": 18,
   "metadata": {},
   "outputs": [
    {
     "name": "stdin",
     "output_type": "stream",
     "text": [
      "Enter a list of four integers, separated by commas [default: 2,4,6,8]:  1,2,3,4\n",
      "Enter a number compute to [default: 24]:  \n"
     ]
    },
    {
     "name": "stdout",
     "output_type": "stream",
     "text": [
      "2*3*4/1\n",
      "1*2*3*4\n",
      "4*(1 + 2 + 3)\n"
     ]
    }
   ],
   "source": [
    "from sympy import symbols, parsing\n",
    "from sympy.parsing.sympy_parser import parse_expr\n",
    "from itertools import permutations, combinations_with_replacement\n",
    "# list the default numbers to use here\n",
    "numbahs = [2,4,6,8]\n",
    "# enter the default number to calculate here\n",
    "ansah = 24\n",
    "\n",
    "numberlist = input(\"Enter a list of four integers, separated by commas [default: 2,4,6,8]: \")\n",
    "if numberlist:\n",
    "    numbahs = [int(n) for n in numberlist.split(',')]\n",
    "answer = input(\"Enter a number compute to [default: 24]: \")\n",
    "if answer:\n",
    "    ansah = int(answer)\n",
    "\n",
    "# generate all possible arrangements of parentheses and operators\n",
    "# ways of combining arguments with parenthesis\n",
    "pgroups = [\n",
    "    \"{0}{1}{2}{3}{4}{5}{6}\",\n",
    "    \"({0}{1}{2}){3}{4}{5}{6}\",\n",
    "    \"({0}{1}{2}{3}{4}){5}{6}\",\n",
    "    \"(({0}{1}{2}){3}{4}){5}{6}\",\n",
    "    \"({0}{1}({2}{3}{4})){5}{6}\",\n",
    "    \"{0}{1}({2}{3}{4}){5}{6}\",\n",
    "    \"{0}{1}({2}{3}({4}{5}{6}))\",\n",
    "    \"{0}{1}(({2}{3}{4}){5}{6})\",\n",
    "    \"{0}{1}({2}{3}{4}{5}{6})\",\n",
    "    \"{0}{1}{2}{3}({4}{5}{6})\"\n",
    "]\n",
    "\n",
    "# available operators\n",
    "operators = ['*','/','+','-']\n",
    "# available symbols\n",
    "variables = ['a','b','c','d']\n",
    "# symbols for sympy to work with\n",
    "a, b, c, d = symbols('a b c d')\n",
    "\n",
    "# does a file exist with unique expressions?\n",
    "try:\n",
    "    with open(\"uniqueexpressions.txt\") as f:\n",
    "        expressions = [parse_expr(s) for s in f.readlines()]\n",
    "        \n",
    "# no file.. generate one\n",
    "except:\n",
    "    # collect unique expressions in a set\n",
    "    expressions = set()\n",
    "    for p in pgroups: # for every combination of parenthesis\n",
    "        for combo in combinations_with_replacement(operators, 3): # and every combination of operators\n",
    "            for o in permutations(combo):  # permuted\n",
    "                for v in permutations(variables): # and every permutation of variables\n",
    "                    s = p.format(v[0],o[0],v[1],o[1],v[2],o[2],v[3]) # construct the expression and...\n",
    "                    s = parse_expr(s)\n",
    "                    # add to expressions set -- this will drop equivalent expressions\n",
    "                    expressions.add(s) \n",
    "    with open(\"uniqueexpressions.txt\", \"w\") as f:\n",
    "        [f.write(str(s)+'\\n') for s in expressions]\n",
    "                    \n",
    "# for every unique expression, substitute the values and evaluate\n",
    "for x in expressions:\n",
    "    try:\n",
    "        val = x.subs({a:numbahs[0],b:numbahs[1],c:numbahs[2],d:numbahs[3]})\n",
    "        if ansah == val:\n",
    "            s = str(x)\n",
    "            for sym, num in zip(variables, numbahs):\n",
    "                s = s.replace(sym, str(num))\n",
    "            print(s)\n",
    "    except:\n",
    "        pass\n",
    "#print(expressions)"
   ]
  }
 ],
 "metadata": {
  "kernelspec": {
   "display_name": "Python 3",
   "language": "python",
   "name": "python3"
  },
  "language_info": {
   "codemirror_mode": {
    "name": "ipython",
    "version": 3
   },
   "file_extension": ".py",
   "mimetype": "text/x-python",
   "name": "python",
   "nbconvert_exporter": "python",
   "pygments_lexer": "ipython3",
   "version": "3.5.2"
  }
 },
 "nbformat": 4,
 "nbformat_minor": 2
}
